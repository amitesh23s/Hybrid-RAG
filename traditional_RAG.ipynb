{
 "cells": [
  {
   "cell_type": "code",
   "execution_count": 16,
   "id": "8eed1656",
   "metadata": {},
   "outputs": [],
   "source": [
    "import os\n",
    "from langchain.document_loaders import TextLoader\n",
    "from langchain.text_splitter import RecursiveCharacterTextSplitter\n",
    "from langchain.embeddings import OpenAIEmbeddings\n",
    "from langchain.vectorstores import FAISS\n",
    "from langchain.chains import RetrievalQA\n",
    "from langchain_groq import ChatGroq\n",
    "from langchain_community.embeddings import HuggingFaceEmbeddings\n",
    "from langchain_openai import ChatOpenAI"
   ]
  },
  {
   "cell_type": "code",
   "execution_count": null,
   "id": "7c35ca08",
   "metadata": {},
   "outputs": [],
   "source": [
    "# Step 1: Load text from a file\n",
    "loader = TextLoader(\"finances.txt\")  # Replace with your file path\n",
    "documents = loader.load()\n",
    "\n",
    "# Step 2: Split text into chunks\n",
    "splitter = RecursiveCharacterTextSplitter(chunk_size=250, chunk_overlap=50)\n",
    "docs = splitter.split_documents(documents)\n",
    "\n",
    "# Step 3: Generate embeddings for chunks\n",
    "embeddings = HuggingFaceEmbeddings(\n",
    "    model_name=\"sentence-transformers/all-MiniLM-L6-v2\"\n",
    ")  # uses OpenAI's embedding model\n",
    "vectorstore = FAISS.from_documents(docs, embeddings)\n",
    "\n",
    "# Step 4: Setup retriever\n",
    "retriever = vectorstore.as_retriever(search_type=\"similarity\", k=3)\n",
    "\n",
    "# Step 5: Setup LLM with retrieval\n",
    "llm = ChatOpenAI(model_name=\"gpt-4o-mini-2024-07-18\", temperature=0)\n",
    "qa_chain = RetrievalQA.from_chain_type(llm=llm, retriever=retriever)"
   ]
  },
  {
   "cell_type": "code",
   "execution_count": 18,
   "id": "349b6013",
   "metadata": {},
   "outputs": [
    {
     "name": "stdout",
     "output_type": "stream",
     "text": [
      "✅ FAISS vector store contains 137 documents.\n"
     ]
    }
   ],
   "source": [
    "print(f\"✅ FAISS vector store contains {len(vectorstore.index_to_docstore_id)} documents.\")"
   ]
  },
  {
   "cell_type": "code",
   "execution_count": null,
   "id": "6c1b6cd7",
   "metadata": {},
   "outputs": [
    {
     "name": "stdout",
     "output_type": "stream",
     "text": [
      "\n",
      "🔍 Answer:\n",
      "LTIMindtree has formed key strategic partnerships with major cloud providers, including Oracle and AWS. Through its partnership with Oracle, LTIMindtree has been a trusted Managed Service Provider (MSP) for over 20 years, enabling customers to leverage cloud technology for maximum ROI. \n",
      "\n",
      "In collaboration with AWS, LTIMindtree offers a range of services and solutions aimed at powering enterprises, particularly in the areas of Application and Infrastructure. The partnership with AWS is supported by a team of 1,855+ Certified AWS Professionals, enhancing LTIMindtree's capability to deliver cloud solutions. \n",
      "\n",
      "Overall, these partnerships focus on driving Hybrid Cloud transformation and providing innovative solutions and services to clients.\n"
     ]
    }
   ],
   "source": [
    "#Question1\n",
    "query = \"What are the key strategic partnerships LTIMindtree has formed with major cloud providers, and what services are offered through these collaborations??\"\n",
    "response = qa_chain.run(query)\n",
    "\n",
    "print(\"\\n🔍 Answer:\")\n",
    "print(response)"
   ]
  },
  {
   "cell_type": "code",
   "execution_count": 21,
   "id": "fa751bc9",
   "metadata": {},
   "outputs": [
    {
     "name": "stdout",
     "output_type": "stream",
     "text": [
      "\n",
      "🔍 Answer:\n",
      "I don't know.\n"
     ]
    }
   ],
   "source": [
    "# Question2\n",
    "query = \"What does LTIMindtree offer to its other partners?\"\n",
    "response = qa_chain.run(query)\n",
    "\n",
    "print(\"\\n🔍 Answer:\")\n",
    "print(response)"
   ]
  },
  {
   "cell_type": "code",
   "execution_count": 22,
   "id": "35fe50f0",
   "metadata": {},
   "outputs": [
    {
     "name": "stdout",
     "output_type": "stream",
     "text": [
      "\n",
      "🔍 Answer:\n",
      "I don't know.\n"
     ]
    }
   ],
   "source": [
    "# Question2\n",
    "query = \"What does LTIMindtree offers to Databricks, servicenow, oracle and dell?\"\n",
    "response = qa_chain.run(query)\n",
    "\n",
    "print(\"\\n🔍 Answer:\")\n",
    "print(response)"
   ]
  },
  {
   "cell_type": "code",
   "execution_count": 23,
   "id": "1bc5ef7f",
   "metadata": {},
   "outputs": [
    {
     "name": "stdout",
     "output_type": "stream",
     "text": [
      "\n",
      "🔍 Answer:\n",
      "LTIMindtree has formed a deep-seated synergy with IBM, characterized by a strong partnership that fosters innovation, creativity, and excellence. As IBM's Global System Integrator (GSI) and Platinum Business Partner, LTIMindtree has global coverage and has become the first Indian GSI to join the IBM Quantum Network. This relationship allows LTIMindtree to access preferred global commercial arrangements with IBM, particularly in the hybrid cloud and security areas. Together, they have co-created differentiated joint offerings by collaborating with IBM Ecosystem Engineering GSI Lab teams, positioning LTIMindtree as a one-stop shop for customers seeking best-in-class solutions built on IBM technologies to support their digital transformation journeys.\n"
     ]
    }
   ],
   "source": [
    "# Question2\n",
    "query = \"Describe LTIMindTree's relationship with IBM.\"\n",
    "response = qa_chain.run(query)\n",
    "\n",
    "print(\"\\n🔍 Answer:\")\n",
    "print(response)"
   ]
  },
  {
   "cell_type": "code",
   "execution_count": 26,
   "id": "255b8173",
   "metadata": {},
   "outputs": [
    {
     "name": "stdout",
     "output_type": "stream",
     "text": [
      "LTIMindtree's approach to joint go-to-market (GTM) strategies varies across its major partnerships, such as with Boomi and Google Cloud Platform (GCP).\n",
      "\n",
      "1. **Boomi Partnership**: LTIMindtree established its partnership with Boomi in 2020 and was elevated to a Global Gold GSI Partner by 2022. The GTM strategy here focuses on integration practices and offerings, supported by a dedicated Center of Excellence. This indicates a strong emphasis on building specialized capabilities and expertise in integration solutions, which is critical for leveraging Boomi's platform effectively.\n",
      "\n",
      "2. **Google Cloud Platform (GCP) Partnership**: As a System Integrator and Premier Partner for GCP, LTIMindtree's GTM strategy includes significant investments in areas like Data Lake Modernization and EDW (Enterprise Data Warehouse) Modernization. This approach suggests a broader focus on cloud transformation and data management solutions, aiming to capitalize on the growing demand for cloud services and data analytics.\n",
      "\n",
      "In summary, while LTIMindtree's partnership with Boomi emphasizes integration solutions through a specialized center, its partnership with GCP focuses on comprehensive cloud transformation strategies, showcasing a tailored approach to each partnership based on the specific strengths and market opportunities of the respective platforms.\n"
     ]
    }
   ],
   "source": [
    "# Question2\n",
    "query = \"Compare LTIMindtree’s approach to joint go-to-market (GTM) strategies across at least two of its major partnerships.\"\n",
    "response = qa_chain.run(query)\n",
    "\n",
    "print(response)"
   ]
  },
  {
   "cell_type": "code",
   "execution_count": 27,
   "id": "76172669",
   "metadata": {},
   "outputs": [
    {
     "name": "stdout",
     "output_type": "stream",
     "text": [
      "I don't know.\n"
     ]
    }
   ],
   "source": [
    "query = \"Who all are LTIMindtree's premier sponsor or premier partners?\"\n",
    "response = qa_chain.run(query)\n",
    "\n",
    "print(response)"
   ]
  },
  {
   "cell_type": "code",
   "execution_count": 28,
   "id": "27db68c2",
   "metadata": {},
   "outputs": [
    {
     "name": "stdout",
     "output_type": "stream",
     "text": [
      "LTIMindtree has received several awards that reflect a deep business alignment and joint innovation focus, particularly with partners like Oracle and ServiceNow. Some of the notable awards include:\n",
      "\n",
      "1. **Global Best Commerce Cloud Transformation** - This award from Oracle highlights LTIMindtree's excellence in transforming commerce solutions, showcasing innovation and effective collaboration.\n",
      "\n",
      "2. **Global Earthfirst Award for Operational Excellence in Sustainability** - This recognition emphasizes LTIMindtree's commitment to sustainability and operational excellence, indicating a strong alignment with partners focused on sustainable practices.\n",
      "\n",
      "As for the differences across partners, the accolades from Oracle focus on specific areas such as commerce and sustainability, while the partnership with ServiceNow emphasizes consulting, implementation, and managed IT services. This indicates that while LTIMindtree maintains a consistent commitment to innovation and excellence, the nature of the awards reflects the specific strategic goals and areas of focus within each partnership.\n"
     ]
    }
   ],
   "source": [
    "query = \"Which partner awards or recognitions received by LTIMindtree reflect a deep business alignment and joint innovation focus, and how do these accolades differ across partners?\"\n",
    "response = qa_chain.run(query)\n",
    "\n",
    "print(response)"
   ]
  }
 ],
 "metadata": {
  "kernelspec": {
   "display_name": "venv",
   "language": "python",
   "name": "python3"
  },
  "language_info": {
   "codemirror_mode": {
    "name": "ipython",
    "version": 3
   },
   "file_extension": ".py",
   "mimetype": "text/x-python",
   "name": "python",
   "nbconvert_exporter": "python",
   "pygments_lexer": "ipython3",
   "version": "3.12.6"
  }
 },
 "nbformat": 4,
 "nbformat_minor": 5
}
